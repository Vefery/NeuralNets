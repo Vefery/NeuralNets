{
 "cells": [
  {
   "cell_type": "markdown",
   "metadata": {},
   "source": [
    "# Import"
   ]
  },
  {
   "cell_type": "code",
   "execution_count": 111,
   "metadata": {},
   "outputs": [],
   "source": [
    "from torch.utils.data import DataLoader\n",
    "from torchvision import datasets\n",
    "from torchvision.transforms import ToTensor\n",
    "import numpy as np\n",
    "from torch import nn\n",
    "import torch"
   ]
  },
  {
   "cell_type": "markdown",
   "metadata": {},
   "source": [
    "# Hyperparameters"
   ]
  },
  {
   "cell_type": "code",
   "execution_count": 3,
   "metadata": {},
   "outputs": [],
   "source": [
    "batch_size = 64"
   ]
  },
  {
   "cell_type": "markdown",
   "metadata": {},
   "source": [
    "# Prepare dataset"
   ]
  },
  {
   "cell_type": "code",
   "execution_count": 4,
   "metadata": {},
   "outputs": [],
   "source": [
    "training_data = datasets.FashionMNIST(\n",
    "    root=\"data\",\n",
    "    train=True,\n",
    "    download=True,\n",
    "    transform=ToTensor(),\n",
    ")\n",
    "\n",
    "test_data = datasets.FashionMNIST(\n",
    "    root=\"data\",\n",
    "    train=False,\n",
    "    download=True,\n",
    "    transform=ToTensor(),\n",
    ")\n",
    "\n",
    "train_dataloader = DataLoader(training_data, batch_size=batch_size)\n",
    "test_dataloader = DataLoader(test_data, batch_size=batch_size)"
   ]
  },
  {
   "cell_type": "markdown",
   "metadata": {},
   "source": [
    "# Network Utils"
   ]
  },
  {
   "cell_type": "code",
   "execution_count": 105,
   "metadata": {},
   "outputs": [],
   "source": [
    "class Linear():\n",
    "    def __init__(self,input_dim: int, output_dim: int):\n",
    "        gen = np.random.default_rng(257)\n",
    "        self.input_dim = input_dim\n",
    "        self.output_dim = output_dim\n",
    "        self.k = np.sqrt(1.0 / input_dim)\n",
    "        #self.weights = gen.uniform(-self.k, self.k, size=(output_dim, input_dim)).astype(np.float32)\n",
    "        self.weights = gen.uniform(-1, 1, size=(output_dim, input_dim)).astype(np.float32)\n",
    "        #self.bias = gen.uniform(-self.k, self.k, size=(output_dim)).astype(np.float32)\n",
    "        self.bias = gen.uniform(-1, 1, size=(output_dim)).astype(np.float32)\n",
    "    \n",
    "    def __call__(self, x: np.ndarray) -> np.ndarray:\n",
    "        y = x @ self.weights.T + self.bias\n",
    "        return y\n",
    "    \n",
    "def ReLU(x: np.ndarray) -> np.ndarray:\n",
    "    return np.clip(x, min=0)\n",
    "\n",
    "def CrossEntropyLoss(x: np.ndarray, y: np.ndarray):\n",
    "    c = x.max(axis=1).reshape(-1, 1)\n",
    "    lse = c + np.log(np.exp(x - c).sum(axis=1)).reshape(-1, 1)\n",
    "    log_softmax = x - lse\n",
    "    loss = -log_softmax[np.arange(log_softmax.shape[0]), y]\n",
    "    return loss.mean()"
   ]
  },
  {
   "cell_type": "code",
   "execution_count": 121,
   "metadata": {},
   "outputs": [
    {
     "name": "stdout",
     "output_type": "stream",
     "text": [
      "[[1 2 3]\n",
      " [4 5 6]] \n",
      "\n",
      "[0 2] \n",
      "\n",
      "[1 6]\n"
     ]
    }
   ],
   "source": [
    "a = np.array([[1, 2, 3], [4, 5, 6]])\n",
    "t = np.array([0, 2])\n",
    "print(a, \"\\n\")\n",
    "print(t, \"\\n\")\n",
    "print(a[np.arange(a.shape[0]), t])"
   ]
  },
  {
   "cell_type": "markdown",
   "metadata": {},
   "source": [
    "# Model"
   ]
  },
  {
   "cell_type": "code",
   "execution_count": null,
   "metadata": {},
   "outputs": [],
   "source": [
    "class Network():\n",
    "    def __init__(self, input_dim: int, hidden_dim: int, output_dim: int):\n",
    "        self.layer1 = Linear(input_dim, hidden_dim)\n",
    "        self.layer2 = Linear(hidden_dim, hidden_dim)\n",
    "        self.layer3 = Linear(hidden_dim, output_dim)\n",
    "    \n",
    "    def __call__(self, input: np.ndarray) -> np.ndarray:\n",
    "        x = input.reshape(input.shape[0], -1)\n",
    "        x = ReLU(self.layer1(x))\n",
    "        x = ReLU(self.layer2(x))\n",
    "        x = self.layer3(x)\n",
    "\n",
    "        return x\n",
    "    \n",
    "class NeuralNetwork(nn.Module):\n",
    "    def __init__(self):\n",
    "        super().__init__()\n",
    "        self.flatten = nn.Flatten()\n",
    "        self.linear_relu_stack = nn.Sequential(\n",
    "            nn.Linear(28*28, 512),\n",
    "            nn.ReLU(),\n",
    "            nn.Linear(512, 512),\n",
    "            nn.ReLU(),\n",
    "            nn.Linear(512, 10)\n",
    "        )\n",
    "        self.linear_relu_stack.apply(init_weights)\n",
    "\n",
    "    def forward(self, x):\n",
    "        x = self.flatten(x)\n",
    "        logits = self.linear_relu_stack(x)\n",
    "        return logits\n",
    "\n",
    "def init_weights(m):\n",
    "    gen = np.random.default_rng(257)\n",
    "    if isinstance(m, nn.Linear):\n",
    "        m.weight.data = torch.tensor(gen.uniform(-1, 1, size=(m.out_features, m.in_features)), dtype=torch.float32)\n",
    "        m.bias.data = torch.tensor(gen.uniform(-1, 1, size=(m.out_features)), dtype=torch.float32)\n"
   ]
  },
  {
   "cell_type": "code",
   "execution_count": 120,
   "metadata": {},
   "outputs": [
    {
     "name": "stdout",
     "output_type": "stream",
     "text": [
      "tensor(121.8471, grad_fn=<NllLossBackward0>)\n",
      "121.84706\n"
     ]
    }
   ],
   "source": [
    "mynet = Network(28*28, 512, 10)\n",
    "torchnet = NeuralNetwork()\n",
    "loss_fn = nn.CrossEntropyLoss()\n",
    "softmax = nn.Softmax()\n",
    "\n",
    "train_features, train_labels = next(iter(train_dataloader))\n",
    "print(loss_fn(torchnet(train_features), train_labels))\n",
    "t = mynet(train_features.numpy())\n",
    "print(CrossEntropyLoss(t, train_labels.numpy()))"
   ]
  }
 ],
 "metadata": {
  "kernelspec": {
   "display_name": "Python 3",
   "language": "python",
   "name": "python3"
  },
  "language_info": {
   "codemirror_mode": {
    "name": "ipython",
    "version": 3
   },
   "file_extension": ".py",
   "mimetype": "text/x-python",
   "name": "python",
   "nbconvert_exporter": "python",
   "pygments_lexer": "ipython3",
   "version": "3.11.11"
  }
 },
 "nbformat": 4,
 "nbformat_minor": 2
}
